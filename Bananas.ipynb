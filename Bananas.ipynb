{
 "metadata": {
  "name": "",
  "signature": "sha256:29cf386a28756caf43412d877847b933c26559a47847bc57480fdf9dc1f6de00"
 },
 "nbformat": 3,
 "nbformat_minor": 0,
 "worksheets": [
  {
   "cells": [
    {
     "cell_type": "code",
     "collapsed": false,
     "input": [
      "%matplotlib inline\n",
      "import numpy as np\n",
      "import matplotlib.pyplot as plt\n",
      "from sklearn.mixture import GMM\n",
      "from scipy.misc import logsumexp"
     ],
     "language": "python",
     "metadata": {},
     "outputs": [],
     "prompt_number": 187
    },
    {
     "cell_type": "markdown",
     "metadata": {},
     "source": [
      "# Extending XD to work with \"data\" with non-Gaussian uncertainties"
     ]
    },
    {
     "cell_type": "markdown",
     "metadata": {},
     "source": [
      "Suppose we are measuring two properties of galaxies, size a and Sersic index b, and we have a sample of N galaxies to measure. We fit our Sersic model to each image, and characterize the posterior PDF for each galaxy as a set of samples w. What does the population of galaxies look like in the a-b plane? We could model the a-b relation as the PDF Pr(a,b|{data}), and suppose that this PDF can be expressed as a mixture of Gaussians.\n",
      "\n",
      "Let's simulate a population of N galaxies!"
     ]
    },
    {
     "cell_type": "code",
     "collapsed": false,
     "input": [
      "N = 50"
     ],
     "language": "python",
     "metadata": {},
     "outputs": [],
     "prompt_number": 188
    },
    {
     "cell_type": "code",
     "collapsed": false,
     "input": [
      "truth = GMM(2,covariance_type='full')\n",
      "truth.means_ = np.array([[3,3],\n",
      "                         [9,2]])\n",
      "truth.covars_ = np.array([[[0.1,0.0],\n",
      "                           [0.0,0.5]],\n",
      "                          [[15.0,-0.7],\n",
      "                           [-0.7,0.05]]])\n",
      "truth.weights_ = np.array([0.2,0.8])\n",
      "w_true = truth.sample(N)"
     ],
     "language": "python",
     "metadata": {},
     "outputs": [],
     "prompt_number": 189
    },
    {
     "cell_type": "code",
     "collapsed": false,
     "input": [
      "plt.scatter(w_true[:,0],w_true[:,1])\n",
      "plt.xlim(0.0,20.0)\n",
      "plt.ylim(0.0,5.0)\n",
      "plt.xlabel('a / kpc')\n",
      "plt.ylabel('Sersic index b')"
     ],
     "language": "python",
     "metadata": {},
     "outputs": [
      {
       "metadata": {},
       "output_type": "pyout",
       "prompt_number": 190,
       "text": [
        "<matplotlib.text.Text at 0x10d820790>"
       ]
      },
      {
       "metadata": {},
       "output_type": "display_data",
       "png": "[encoded data removed]",
       "text": [
        "<matplotlib.figure.Figure at 0x10d90ec90>"
       ]
      }
     ],
     "prompt_number": 190
    },
    {
     "cell_type": "markdown",
     "metadata": {},
     "source": [
      "The w_true array contains the true (a,b) parameters for N galaxies; this \"intrinsic size-index distribution\" is plotted above.\n",
      "Next, we need to emulate the measurement of these galaxies. This means we need to draw \"measured mean\" parameters, and \"measurement uncertainties\" - and then draw \"posterior samples\" given these galaxy-by-galaxy parameters."
     ]
    },
    {
     "cell_type": "code",
     "collapsed": false,
     "input": [
      "Nsamples = 12"
     ],
     "language": "python",
     "metadata": {},
     "outputs": [],
     "prompt_number": 191
    },
    {
     "cell_type": "code",
     "collapsed": false,
     "input": [
      "# w_sigma = np.random.randn(2*N).reshape([N,2])*np.array([1.0,0.5])\n",
      "w_sigma = np.ones([N,2])*np.array([1.0,0.4])\n",
      "w_meas = w_true + w_sigma*np.random.randn(2*N).reshape([N,2])\n",
      "w = w_meas + np.random.randn(Nsamples,N,2)*w_sigma"
     ],
     "language": "python",
     "metadata": {},
     "outputs": [],
     "prompt_number": 218
    },
    {
     "cell_type": "code",
     "collapsed": false,
     "input": [
      "w.shape,w_true.shape"
     ],
     "language": "python",
     "metadata": {},
     "outputs": [
      {
       "metadata": {},
       "output_type": "pyout",
       "prompt_number": 219,
       "text": [
        "((12, 50, 2), (50, 2))"
       ]
      }
     ],
     "prompt_number": 219
    },
    {
     "cell_type": "code",
     "collapsed": false,
     "input": [
      "plt.plot(w[:,:,0].ravel(),w[:,:,1].ravel(),'.',color='lightblue')\n",
      "plt.plot(w_meas[:,0],w_meas[:,1],'o',color='blue')\n",
      "plt.plot(w_true[:,0],w_true[:,1],'o',color='red')\n",
      "plt.xlim(0.0,20.0)\n",
      "plt.ylim(0.0,5.0)\n",
      "plt.xlabel('a / kpc')\n",
      "plt.ylabel('Sersic index b')"
     ],
     "language": "python",
     "metadata": {},
     "outputs": [
      {
       "metadata": {},
       "output_type": "pyout",
       "prompt_number": 220,
       "text": [
        "<matplotlib.text.Text at 0x10ea30dd0>"
       ]
      },
      {
       "metadata": {},
       "output_type": "display_data",
       "png": "[encoded data removed]",
       "text": [
        "<matplotlib.figure.Figure at 0x10ea33c50>"
       ]
      }
     ],
     "prompt_number": 220
    },
    {
     "cell_type": "markdown",
     "metadata": {},
     "source": [
      "This is what we have to work with: posterior samples (light blue) capturing our uncertainty about the a and b of each galaxy. Red shows the true values, dark blue the posterior means.\n",
      "\n",
      "At this point we could run standard XD, and try and use `model` to recover `truth`. To do this comparison, it'd be nice to be able to overlay ellipse contours... \n",
      "\n",
      "Also, this could be a nice easy test of some labelling: can we classify the observed galaxies into the two underlying sub-populations?"
     ]
    },
    {
     "cell_type": "markdown",
     "metadata": {},
     "source": [
      "## XD by Importance Sampling"
     ]
    },
    {
     "cell_type": "markdown",
     "metadata": {},
     "source": [
      "Now, we need the likelihood - the probability of the data given the parameters of the true GMM. For this we have to be able to compute our model GMM at every sample point. So we'll need a model GMM!"
     ]
    },
    {
     "cell_type": "code",
     "collapsed": false,
     "input": [
      "model = GMM(2,covariance_type='full')\n",
      "model.fit(w_meas)"
     ],
     "language": "python",
     "metadata": {},
     "outputs": [
      {
       "metadata": {},
       "output_type": "pyout",
       "prompt_number": 221,
       "text": [
        "GMM(covariance_type='full', init_params='wmc', min_covar=0.001,\n",
        "  n_components=2, n_init=1, n_iter=100, params='wmc', random_state=None,\n",
        "  thresh=0.01)"
       ]
      }
     ],
     "prompt_number": 221
    },
    {
     "cell_type": "code",
     "collapsed": false,
     "input": [
      "model.means_,model.covars_,model.weights_"
     ],
     "language": "python",
     "metadata": {},
     "outputs": [
      {
       "metadata": {},
       "output_type": "pyout",
       "prompt_number": 222,
       "text": [
        "(array([[  4.03411793,   2.88185155],\n",
        "        [ 10.80046992,   1.84108724]]), array([[[  2.61670142,  -0.38250813],\n",
        "         [ -0.38250813,   0.81597506]],\n",
        " \n",
        "        [[ 12.31492658,  -0.23306034],\n",
        "         [ -0.23306034,   0.15628371]]]), array([ 0.35747561,  0.64252439]))"
       ]
      }
     ],
     "prompt_number": 222
    },
    {
     "cell_type": "code",
     "collapsed": false,
     "input": [
      "model.fit(w.reshape(N*Nsamples,2))"
     ],
     "language": "python",
     "metadata": {},
     "outputs": [
      {
       "metadata": {},
       "output_type": "pyout",
       "prompt_number": 223,
       "text": [
        "GMM(covariance_type='full', init_params='wmc', min_covar=0.001,\n",
        "  n_components=2, n_init=1, n_iter=100, params='wmc', random_state=None,\n",
        "  thresh=0.01)"
       ]
      }
     ],
     "prompt_number": 223
    },
    {
     "cell_type": "code",
     "collapsed": false,
     "input": [
      "model.means_,model.covars_,model.weights_"
     ],
     "language": "python",
     "metadata": {},
     "outputs": [
      {
       "metadata": {},
       "output_type": "pyout",
       "prompt_number": 224,
       "text": [
        "(array([[ 10.28652006,   1.94802443],\n",
        "        [  3.42151776,   3.01364267]]), array([[[ 14.57025346,  -0.58872822],\n",
        "         [ -0.58872822,   0.3570442 ]],\n",
        " \n",
        "        [[  2.49373807,  -0.45352984],\n",
        "         [ -0.45352984,   1.10116897]]]), array([ 0.72162131,  0.27837869]))"
       ]
      }
     ],
     "prompt_number": 224
    },
    {
     "cell_type": "markdown",
     "metadata": {},
     "source": [
      "OK, now look at hierarchical model likelihood - product of sums of evaluations of model..."
     ]
    },
    {
     "cell_type": "code",
     "collapsed": false,
     "input": [
      "loglike = 0.0\n",
      "for k in range(N):\n",
      "    logprob = model.score(w[:,k,:].reshape(Nsamples,2))\n",
      "    loglike += logsumexp(logprob) - np.log(Nsamples)"
     ],
     "language": "python",
     "metadata": {},
     "outputs": [],
     "prompt_number": 216
    },
    {
     "cell_type": "code",
     "collapsed": false,
     "input": [
      "loglike"
     ],
     "language": "python",
     "metadata": {},
     "outputs": [
      {
       "metadata": {},
       "output_type": "pyout",
       "prompt_number": 217,
       "text": [
        "-159.62720884660177"
       ]
      }
     ],
     "prompt_number": 217
    },
    {
     "cell_type": "code",
     "collapsed": false,
     "input": [],
     "language": "python",
     "metadata": {},
     "outputs": [],
     "prompt_number": 199
    },
    {
     "cell_type": "code",
     "collapsed": false,
     "input": [],
     "language": "python",
     "metadata": {},
     "outputs": [],
     "prompt_number": 199
    },
    {
     "cell_type": "code",
     "collapsed": false,
     "input": [],
     "language": "python",
     "metadata": {},
     "outputs": [],
     "prompt_number": 199
    },
    {
     "cell_type": "code",
     "collapsed": false,
     "input": [],
     "language": "python",
     "metadata": {},
     "outputs": []
    }
   ],
   "metadata": {}
  }
 ]
}